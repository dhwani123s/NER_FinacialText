{
  "cells": [
    {
      "cell_type": "code",
      "execution_count": 14,
      "metadata": {
        "id": "CJ0LwDIO3a25"
      },
      "outputs": [],
      "source": [
        "import numpy as np\n",
        "import pandas as pd\n",
        "import matplotlib.pyplot as plt\n",
        "import seaborn as sns\n",
        "import spacy\n",
        "from sklearn.model_selection import train_test_split\n",
        "from sklearn.metrics import classification_report, confusion_matrix\n",
        "from transformers import BertTokenizer, BertForTokenClassification\n",
        "from transformers import pipeline\n",
        "import torch"
      ]
    },
    {
      "cell_type": "code",
      "execution_count": 15,
      "metadata": {
        "colab": {
          "base_uri": "https://localhost:8080/",
          "height": 206
        },
        "id": "0u_x8s134l0k",
        "outputId": "dc07b9b7-bada-4601-e781-9f02b11e548e"
      },
      "outputs": [
        {
          "output_type": "execute_result",
          "data": {
            "text/plain": [
              "       Sentence_ID                                               Word  \\\n",
              "0      Sentence: 1  ['Thousands', 'of', 'demonstrators', 'have', '...   \n",
              "1     Sentence: 10  ['Iranian', 'officials', 'say', 'they', 'expec...   \n",
              "2    Sentence: 100  ['Helicopter', 'gunships', 'Saturday', 'pounde...   \n",
              "3   Sentence: 1000  ['They', 'left', 'after', 'a', 'tense', 'hour-...   \n",
              "4  Sentence: 10000  ['U.N.', 'relief', 'coordinator', 'Jan', 'Egel...   \n",
              "\n",
              "                                                 POS  \\\n",
              "0  ['NNS', 'IN', 'NNS', 'VBP', 'VBN', 'IN', 'NNP'...   \n",
              "1  ['JJ', 'NNS', 'VBP', 'PRP', 'VBP', 'TO', 'VB',...   \n",
              "2  ['NN', 'NNS', 'NNP', 'VBD', 'JJ', 'NNS', 'IN',...   \n",
              "3  ['PRP', 'VBD', 'IN', 'DT', 'NN', 'JJ', 'NN', '...   \n",
              "4  ['NNP', 'NN', 'NN', 'NNP', 'NNP', 'VBD', 'NNP'...   \n",
              "\n",
              "                                                 Tag  \n",
              "0  ['O', 'O', 'O', 'O', 'O', 'O', 'B-geo', 'O', '...  \n",
              "1  ['B-gpe', 'O', 'O', 'O', 'O', 'O', 'O', 'O', '...  \n",
              "2  ['O', 'O', 'B-tim', 'O', 'O', 'O', 'O', 'O', '...  \n",
              "3  ['O', 'O', 'O', 'O', 'O', 'O', 'O', 'O', 'O', ...  \n",
              "4  ['B-geo', 'O', 'O', 'B-per', 'I-per', 'O', 'B-...  "
            ],
            "text/html": [
              "\n",
              "  <div id=\"df-f330271c-bc8a-4442-b062-ed6ab3fab9f6\" class=\"colab-df-container\">\n",
              "    <div>\n",
              "<style scoped>\n",
              "    .dataframe tbody tr th:only-of-type {\n",
              "        vertical-align: middle;\n",
              "    }\n",
              "\n",
              "    .dataframe tbody tr th {\n",
              "        vertical-align: top;\n",
              "    }\n",
              "\n",
              "    .dataframe thead th {\n",
              "        text-align: right;\n",
              "    }\n",
              "</style>\n",
              "<table border=\"1\" class=\"dataframe\">\n",
              "  <thead>\n",
              "    <tr style=\"text-align: right;\">\n",
              "      <th></th>\n",
              "      <th>Sentence_ID</th>\n",
              "      <th>Word</th>\n",
              "      <th>POS</th>\n",
              "      <th>Tag</th>\n",
              "    </tr>\n",
              "  </thead>\n",
              "  <tbody>\n",
              "    <tr>\n",
              "      <th>0</th>\n",
              "      <td>Sentence: 1</td>\n",
              "      <td>['Thousands', 'of', 'demonstrators', 'have', '...</td>\n",
              "      <td>['NNS', 'IN', 'NNS', 'VBP', 'VBN', 'IN', 'NNP'...</td>\n",
              "      <td>['O', 'O', 'O', 'O', 'O', 'O', 'B-geo', 'O', '...</td>\n",
              "    </tr>\n",
              "    <tr>\n",
              "      <th>1</th>\n",
              "      <td>Sentence: 10</td>\n",
              "      <td>['Iranian', 'officials', 'say', 'they', 'expec...</td>\n",
              "      <td>['JJ', 'NNS', 'VBP', 'PRP', 'VBP', 'TO', 'VB',...</td>\n",
              "      <td>['B-gpe', 'O', 'O', 'O', 'O', 'O', 'O', 'O', '...</td>\n",
              "    </tr>\n",
              "    <tr>\n",
              "      <th>2</th>\n",
              "      <td>Sentence: 100</td>\n",
              "      <td>['Helicopter', 'gunships', 'Saturday', 'pounde...</td>\n",
              "      <td>['NN', 'NNS', 'NNP', 'VBD', 'JJ', 'NNS', 'IN',...</td>\n",
              "      <td>['O', 'O', 'B-tim', 'O', 'O', 'O', 'O', 'O', '...</td>\n",
              "    </tr>\n",
              "    <tr>\n",
              "      <th>3</th>\n",
              "      <td>Sentence: 1000</td>\n",
              "      <td>['They', 'left', 'after', 'a', 'tense', 'hour-...</td>\n",
              "      <td>['PRP', 'VBD', 'IN', 'DT', 'NN', 'JJ', 'NN', '...</td>\n",
              "      <td>['O', 'O', 'O', 'O', 'O', 'O', 'O', 'O', 'O', ...</td>\n",
              "    </tr>\n",
              "    <tr>\n",
              "      <th>4</th>\n",
              "      <td>Sentence: 10000</td>\n",
              "      <td>['U.N.', 'relief', 'coordinator', 'Jan', 'Egel...</td>\n",
              "      <td>['NNP', 'NN', 'NN', 'NNP', 'NNP', 'VBD', 'NNP'...</td>\n",
              "      <td>['B-geo', 'O', 'O', 'B-per', 'I-per', 'O', 'B-...</td>\n",
              "    </tr>\n",
              "  </tbody>\n",
              "</table>\n",
              "</div>\n",
              "    <div class=\"colab-df-buttons\">\n",
              "\n",
              "  <div class=\"colab-df-container\">\n",
              "    <button class=\"colab-df-convert\" onclick=\"convertToInteractive('df-f330271c-bc8a-4442-b062-ed6ab3fab9f6')\"\n",
              "            title=\"Convert this dataframe to an interactive table.\"\n",
              "            style=\"display:none;\">\n",
              "\n",
              "  <svg xmlns=\"http://www.w3.org/2000/svg\" height=\"24px\" viewBox=\"0 -960 960 960\">\n",
              "    <path d=\"M120-120v-720h720v720H120Zm60-500h600v-160H180v160Zm220 220h160v-160H400v160Zm0 220h160v-160H400v160ZM180-400h160v-160H180v160Zm440 0h160v-160H620v160ZM180-180h160v-160H180v160Zm440 0h160v-160H620v160Z\"/>\n",
              "  </svg>\n",
              "    </button>\n",
              "\n",
              "  <style>\n",
              "    .colab-df-container {\n",
              "      display:flex;\n",
              "      gap: 12px;\n",
              "    }\n",
              "\n",
              "    .colab-df-convert {\n",
              "      background-color: #E8F0FE;\n",
              "      border: none;\n",
              "      border-radius: 50%;\n",
              "      cursor: pointer;\n",
              "      display: none;\n",
              "      fill: #1967D2;\n",
              "      height: 32px;\n",
              "      padding: 0 0 0 0;\n",
              "      width: 32px;\n",
              "    }\n",
              "\n",
              "    .colab-df-convert:hover {\n",
              "      background-color: #E2EBFA;\n",
              "      box-shadow: 0px 1px 2px rgba(60, 64, 67, 0.3), 0px 1px 3px 1px rgba(60, 64, 67, 0.15);\n",
              "      fill: #174EA6;\n",
              "    }\n",
              "\n",
              "    .colab-df-buttons div {\n",
              "      margin-bottom: 4px;\n",
              "    }\n",
              "\n",
              "    [theme=dark] .colab-df-convert {\n",
              "      background-color: #3B4455;\n",
              "      fill: #D2E3FC;\n",
              "    }\n",
              "\n",
              "    [theme=dark] .colab-df-convert:hover {\n",
              "      background-color: #434B5C;\n",
              "      box-shadow: 0px 1px 3px 1px rgba(0, 0, 0, 0.15);\n",
              "      filter: drop-shadow(0px 1px 2px rgba(0, 0, 0, 0.3));\n",
              "      fill: #FFFFFF;\n",
              "    }\n",
              "  </style>\n",
              "\n",
              "    <script>\n",
              "      const buttonEl =\n",
              "        document.querySelector('#df-f330271c-bc8a-4442-b062-ed6ab3fab9f6 button.colab-df-convert');\n",
              "      buttonEl.style.display =\n",
              "        google.colab.kernel.accessAllowed ? 'block' : 'none';\n",
              "\n",
              "      async function convertToInteractive(key) {\n",
              "        const element = document.querySelector('#df-f330271c-bc8a-4442-b062-ed6ab3fab9f6');\n",
              "        const dataTable =\n",
              "          await google.colab.kernel.invokeFunction('convertToInteractive',\n",
              "                                                    [key], {});\n",
              "        if (!dataTable) return;\n",
              "\n",
              "        const docLinkHtml = 'Like what you see? Visit the ' +\n",
              "          '<a target=\"_blank\" href=https://colab.research.google.com/notebooks/data_table.ipynb>data table notebook</a>'\n",
              "          + ' to learn more about interactive tables.';\n",
              "        element.innerHTML = '';\n",
              "        dataTable['output_type'] = 'display_data';\n",
              "        await google.colab.output.renderOutput(dataTable, element);\n",
              "        const docLink = document.createElement('div');\n",
              "        docLink.innerHTML = docLinkHtml;\n",
              "        element.appendChild(docLink);\n",
              "      }\n",
              "    </script>\n",
              "  </div>\n",
              "\n",
              "\n",
              "<div id=\"df-b8f7351e-40ab-4d57-9e57-6516221790d6\">\n",
              "  <button class=\"colab-df-quickchart\" onclick=\"quickchart('df-b8f7351e-40ab-4d57-9e57-6516221790d6')\"\n",
              "            title=\"Suggest charts\"\n",
              "            style=\"display:none;\">\n",
              "\n",
              "<svg xmlns=\"http://www.w3.org/2000/svg\" height=\"24px\"viewBox=\"0 0 24 24\"\n",
              "     width=\"24px\">\n",
              "    <g>\n",
              "        <path d=\"M19 3H5c-1.1 0-2 .9-2 2v14c0 1.1.9 2 2 2h14c1.1 0 2-.9 2-2V5c0-1.1-.9-2-2-2zM9 17H7v-7h2v7zm4 0h-2V7h2v10zm4 0h-2v-4h2v4z\"/>\n",
              "    </g>\n",
              "</svg>\n",
              "  </button>\n",
              "\n",
              "<style>\n",
              "  .colab-df-quickchart {\n",
              "      --bg-color: #E8F0FE;\n",
              "      --fill-color: #1967D2;\n",
              "      --hover-bg-color: #E2EBFA;\n",
              "      --hover-fill-color: #174EA6;\n",
              "      --disabled-fill-color: #AAA;\n",
              "      --disabled-bg-color: #DDD;\n",
              "  }\n",
              "\n",
              "  [theme=dark] .colab-df-quickchart {\n",
              "      --bg-color: #3B4455;\n",
              "      --fill-color: #D2E3FC;\n",
              "      --hover-bg-color: #434B5C;\n",
              "      --hover-fill-color: #FFFFFF;\n",
              "      --disabled-bg-color: #3B4455;\n",
              "      --disabled-fill-color: #666;\n",
              "  }\n",
              "\n",
              "  .colab-df-quickchart {\n",
              "    background-color: var(--bg-color);\n",
              "    border: none;\n",
              "    border-radius: 50%;\n",
              "    cursor: pointer;\n",
              "    display: none;\n",
              "    fill: var(--fill-color);\n",
              "    height: 32px;\n",
              "    padding: 0;\n",
              "    width: 32px;\n",
              "  }\n",
              "\n",
              "  .colab-df-quickchart:hover {\n",
              "    background-color: var(--hover-bg-color);\n",
              "    box-shadow: 0 1px 2px rgba(60, 64, 67, 0.3), 0 1px 3px 1px rgba(60, 64, 67, 0.15);\n",
              "    fill: var(--button-hover-fill-color);\n",
              "  }\n",
              "\n",
              "  .colab-df-quickchart-complete:disabled,\n",
              "  .colab-df-quickchart-complete:disabled:hover {\n",
              "    background-color: var(--disabled-bg-color);\n",
              "    fill: var(--disabled-fill-color);\n",
              "    box-shadow: none;\n",
              "  }\n",
              "\n",
              "  .colab-df-spinner {\n",
              "    border: 2px solid var(--fill-color);\n",
              "    border-color: transparent;\n",
              "    border-bottom-color: var(--fill-color);\n",
              "    animation:\n",
              "      spin 1s steps(1) infinite;\n",
              "  }\n",
              "\n",
              "  @keyframes spin {\n",
              "    0% {\n",
              "      border-color: transparent;\n",
              "      border-bottom-color: var(--fill-color);\n",
              "      border-left-color: var(--fill-color);\n",
              "    }\n",
              "    20% {\n",
              "      border-color: transparent;\n",
              "      border-left-color: var(--fill-color);\n",
              "      border-top-color: var(--fill-color);\n",
              "    }\n",
              "    30% {\n",
              "      border-color: transparent;\n",
              "      border-left-color: var(--fill-color);\n",
              "      border-top-color: var(--fill-color);\n",
              "      border-right-color: var(--fill-color);\n",
              "    }\n",
              "    40% {\n",
              "      border-color: transparent;\n",
              "      border-right-color: var(--fill-color);\n",
              "      border-top-color: var(--fill-color);\n",
              "    }\n",
              "    60% {\n",
              "      border-color: transparent;\n",
              "      border-right-color: var(--fill-color);\n",
              "    }\n",
              "    80% {\n",
              "      border-color: transparent;\n",
              "      border-right-color: var(--fill-color);\n",
              "      border-bottom-color: var(--fill-color);\n",
              "    }\n",
              "    90% {\n",
              "      border-color: transparent;\n",
              "      border-bottom-color: var(--fill-color);\n",
              "    }\n",
              "  }\n",
              "</style>\n",
              "\n",
              "  <script>\n",
              "    async function quickchart(key) {\n",
              "      const quickchartButtonEl =\n",
              "        document.querySelector('#' + key + ' button');\n",
              "      quickchartButtonEl.disabled = true;  // To prevent multiple clicks.\n",
              "      quickchartButtonEl.classList.add('colab-df-spinner');\n",
              "      try {\n",
              "        const charts = await google.colab.kernel.invokeFunction(\n",
              "            'suggestCharts', [key], {});\n",
              "      } catch (error) {\n",
              "        console.error('Error during call to suggestCharts:', error);\n",
              "      }\n",
              "      quickchartButtonEl.classList.remove('colab-df-spinner');\n",
              "      quickchartButtonEl.classList.add('colab-df-quickchart-complete');\n",
              "    }\n",
              "    (() => {\n",
              "      let quickchartButtonEl =\n",
              "        document.querySelector('#df-b8f7351e-40ab-4d57-9e57-6516221790d6 button');\n",
              "      quickchartButtonEl.style.display =\n",
              "        google.colab.kernel.accessAllowed ? 'block' : 'none';\n",
              "    })();\n",
              "  </script>\n",
              "</div>\n",
              "\n",
              "    </div>\n",
              "  </div>\n"
            ],
            "application/vnd.google.colaboratory.intrinsic+json": {
              "type": "dataframe",
              "variable_name": "df",
              "summary": "{\n  \"name\": \"df\",\n  \"rows\": 47959,\n  \"fields\": [\n    {\n      \"column\": \"Sentence_ID\",\n      \"properties\": {\n        \"dtype\": \"string\",\n        \"num_unique_values\": 47959,\n        \"samples\": [\n          \"Sentence: 22048\",\n          \"Sentence: 1273\",\n          \"Sentence: 1541\"\n        ],\n        \"semantic_type\": \"\",\n        \"description\": \"\"\n      }\n    },\n    {\n      \"column\": \"Word\",\n      \"properties\": {\n        \"dtype\": \"string\",\n        \"num_unique_values\": 47575,\n        \"samples\": [\n          \"['The', 'Afghan', 'civilians', 'were', 'killed', 'during', 'a', 'firefight', 'between', 'the', 'Polish', 'troops', 'and', 'militants', 'on', 'August', '16', '.']\",\n          \"['President', 'Bush', 'is', 'to', 'travel', 'to', 'Europe', 'in', 'June', 'to', 'attend', 'a', 'summit', 'of', 'the', 'Group', 'of', 'Eight', 'industrialized', 'nations', 'in', 'Germany', '.']\",\n          \"['Russian', 'news', 'reports', 'say', 'a', 'court', 'ruled', 'Monday', 'that', 'Mikhail', 'Khodorkovsky', 'and', 'his', 'business', 'partner', 'are', 'guilty', 'of', 'embezzling', 'property', '.']\"\n        ],\n        \"semantic_type\": \"\",\n        \"description\": \"\"\n      }\n    },\n    {\n      \"column\": \"POS\",\n      \"properties\": {\n        \"dtype\": \"string\",\n        \"num_unique_values\": 47214,\n        \"samples\": [\n          \"['PRP', 'VBD', 'DT', 'JJ', 'NN', 'IN', 'NNP', 'NNP', 'VBD', 'NN', 'IN', 'CD', 'IN', 'PRP', 'VBD', 'RB', 'VB', 'DT', 'JJ', 'NN', '.']\",\n          \"['NNS', 'VBP', 'DT', 'NN', 'VBD', 'NN', 'IN', 'DT', 'CD', 'NNS', 'VBD', 'VBG', 'DT', 'JJ', 'JJ', 'NN', 'IN', 'NNP', 'NN', '.']\",\n          \"['DT', 'NN', 'RB', 'VBD', 'DT', 'NN', 'IN', 'NNP', 'IN', 'VBG', 'IN', 'CD', 'CC', 'CD', 'NNS', 'IN', 'DT', 'JJ', 'NN', 'NN', 'TO', 'VB', 'DT', 'NN', ',', 'CD', ',', 'CD', ',', 'CD', '.']\"\n        ],\n        \"semantic_type\": \"\",\n        \"description\": \"\"\n      }\n    },\n    {\n      \"column\": \"Tag\",\n      \"properties\": {\n        \"dtype\": \"string\",\n        \"num_unique_values\": 33318,\n        \"samples\": [\n          \"['O', 'O', 'O', 'O', 'O', 'B-per', 'B-org', 'O', 'O', 'O', 'O', 'O', 'O', 'O', 'O', 'O', 'O', 'O', 'O', 'B-gpe', 'O', 'O']\",\n          \"['O', 'B-tim', 'O', 'B-gpe', 'O', 'O', 'O', 'B-gpe', 'O', 'O', 'O', 'O', 'O', 'O', 'O', 'O', 'O', 'O', 'O', 'O', 'B-gpe', 'O', 'O', 'O', 'B-gpe', 'O', 'O']\",\n          \"['O', 'O', 'O', 'O', 'O', 'O', 'O', 'O', 'O', 'O', 'O', 'O', 'O', 'B-tim', 'O', 'O', 'O', 'O', 'O', 'O', 'O', 'O', 'O', 'B-geo', 'O']\"\n        ],\n        \"semantic_type\": \"\",\n        \"description\": \"\"\n      }\n    }\n  ]\n}"
            }
          },
          "metadata": {},
          "execution_count": 15
        }
      ],
      "source": [
        "# Load dataset\n",
        "df = pd.read_csv('NER_Dataset.csv')\n",
        "df.head()\n"
      ]
    },
    {
      "cell_type": "code",
      "execution_count": 16,
      "metadata": {
        "id": "JbrR-_qe5TAE"
      },
      "outputs": [],
      "source": [
        "# Convert the text column into sentences\n",
        "def convert_to_sentences(df):\n",
        "    sentences = []\n",
        "    labels = []\n",
        "    for sentence_id, group in df.groupby(\"Sentence_ID\"):\n",
        "        sentences.append(\" \".join(group[\"Word\"].values))\n",
        "        labels.append(\" \".join(group[\"Tag\"].values))\n",
        "    return sentences, labels\n",
        "\n",
        "sentences, labels = convert_to_sentences(df)\n",
        "\n",
        "# Convert the labels into the BIO format\n",
        "def preprocess_labels(labels):\n",
        "    return [label.split() for label in labels]\n",
        "\n",
        "labels = preprocess_labels(labels)"
      ]
    },
    {
      "cell_type": "code",
      "execution_count": 17,
      "metadata": {
        "colab": {
          "base_uri": "https://localhost:8080/",
          "height": 472
        },
        "id": "_UEL0kLI596T",
        "outputId": "0b064255-01ea-4e52-934a-34ccb93534fd"
      },
      "outputs": [
        {
          "output_type": "display_data",
          "data": {
            "text/plain": [
              "<Figure size 640x480 with 1 Axes>"
            ],
            "image/png": "[encoded data removed]"
          },
          "metadata": {}
        }
      ],
      "source": [
        "# Plot the distribution of entities\n",
        "all_labels = [label for sublist in labels for label in sublist]\n",
        "entity_counts = pd.Series(all_labels).value_counts()\n",
        "sns.barplot(x=entity_counts.index, y=entity_counts.values)\n",
        "plt.title('Entity Distribution')\n",
        "plt.show()\n"
      ]
    },
    {
      "cell_type": "code",
      "source": [
        "import random\n",
        "import spacy\n",
        "from spacy.training.example import Example\n",
        "from spacy.util import minibatch, compounding"
      ],
      "metadata": {
        "id": "RMBtPzwb9Q0X"
      },
      "execution_count": 18,
      "outputs": []
    },
    {
      "cell_type": "code",
      "source": [
        "# Load SpaCy model\n",
        "nlp = spacy.blank(\"en\")\n"
      ],
      "metadata": {
        "id": "tnO7gOjj9SfS"
      },
      "execution_count": 19,
      "outputs": []
    },
    {
      "cell_type": "code",
      "source": [
        "# Define a blank pipeline for NER\n",
        "if \"ner\" not in nlp.pipe_names:\n",
        "    ner = nlp.create_pipe(\"ner\")\n",
        "    nlp.add_pipe(\"ner\")"
      ],
      "metadata": {
        "id": "KwQqM_cv9XDJ"
      },
      "execution_count": 20,
      "outputs": []
    },
    {
      "cell_type": "code",
      "source": [
        "# Add labels to the NER pipeline\n",
        "for label in set(all_labels):\n",
        "    ner.add_label(label)"
      ],
      "metadata": {
        "id": "FysHncoD9Zlz"
      },
      "execution_count": 21,
      "outputs": []
    },
    {
      "cell_type": "code",
      "source": [
        "# Train-test split\n",
        "train_texts, test_texts, train_labels, test_labels = train_test_split(sentences, labels, test_size=0.2, random_state=42)"
      ],
      "metadata": {
        "id": "MD43T4qL9b4J"
      },
      "execution_count": 22,
      "outputs": []
    },
    {
      "cell_type": "code",
      "source": [
        "# Convert the data into SpaCy's required format\n",
        "def convert_to_spacy_format(texts, labels):\n",
        "    data = []\n",
        "    for text, label in zip(texts, labels):\n",
        "        entities = []\n",
        "        start = 0\n",
        "        for word, tag in zip(text.split(), label):\n",
        "            end = start + len(word)\n",
        "            if tag != \"O\":\n",
        "                entities.append((start, end, tag))\n",
        "            start = end + 1\n",
        "        data.append((text, {\"entities\": entities}))\n",
        "    return data\n",
        "\n",
        "train_data = convert_to_spacy_format(train_texts, train_labels)\n",
        "test_data = convert_to_spacy_format(test_texts, test_labels)"
      ],
      "metadata": {
        "id": "js_6CJd99fcp"
      },
      "execution_count": 23,
      "outputs": []
    },
    {
      "cell_type": "code",
      "source": [
        "# Train the SpaCy model (using minibatches for efficiency)\n",
        "def train_spacy_ner(model, train_data, iterations=7):\n",
        "    optimizer = model.begin_training()\n",
        "    for i in range(iterations):\n",
        "        random.shuffle(train_data)\n",
        "        losses = {}\n",
        "        batches = minibatch(train_data, size=compounding(4.0, 32.0, 1.5))\n",
        "        for batch in batches:\n",
        "            texts, annotations = zip(*batch)\n",
        "            examples = [Example.from_dict(model.make_doc(text), ann) for text, ann in zip(texts, annotations)]\n",
        "            model.update(examples, drop=0.5, losses=losses)\n",
        "        print(f\"Iteration {i + 1}: Losses {losses}\")\n",
        "    return model\n",
        "\n",
        "nlp = train_spacy_ner(nlp, train_data)"
      ],
      "metadata": {
        "colab": {
          "base_uri": "https://localhost:8080/"
        },
        "id": "KEc55iKs9ivJ",
        "outputId": "37a5b3ea-f39f-4240-ea3b-5946476abc73"
      },
      "execution_count": null,
      "outputs": [
        {
          "output_type": "stream",
          "name": "stdout",
          "text": [
            "Iteration 1: Losses {'ner': 414376.60520709}\n",
            "Iteration 2: Losses {'ner': 273943.3728745454}\n",
            "Iteration 3: Losses {'ner': 200623.35839453147}\n",
            "Iteration 4: Losses {'ner': 151877.63533156377}\n",
            "Iteration 5: Losses {'ner': 130875.32245768665}\n",
            "Iteration 6: Losses {'ner': 123046.19794846007}\n",
            "Iteration 7: Losses {'ner': 116338.76992940519}\n"
          ]
        }
      ]
    },
    {
      "cell_type": "code",
      "source": [
        "# Predict and evaluate\n",
        "def evaluate_spacy_ner(model, texts, true_entities):\n",
        "    pred_entities = []\n",
        "    for text in texts:\n",
        "        doc = model(text)\n",
        "        entities = [(ent.text, ent.label_) for ent in doc.ents]\n",
        "        pred_entities.append(entities)\n",
        "    # Calculate and print evaluation metrics\n",
        "    return pred_entities\n",
        "\n",
        "pred_entities = evaluate_spacy_ner(nlp, test_texts, test_labels)"
      ],
      "metadata": {
        "id": "kOniaPxbBtv1"
      },
      "execution_count": 25,
      "outputs": []
    },
    {
      "cell_type": "code",
      "source": [
        "from sklearn.metrics import classification_report\n",
        "\n",
        "from sklearn.metrics import classification_report\n",
        "\n",
        "# Function to align predicted and true labels\n",
        "def align_labels(true_entities, pred_entities):\n",
        "    aligned_true_labels = []\n",
        "    aligned_pred_labels = []\n",
        "\n",
        "    for true_label_list, pred_label_list in zip(true_entities, pred_entities):\n",
        "        true_index = 0\n",
        "        pred_index = 0\n",
        "        while true_index < len(true_label_list) and pred_index < len(pred_label_list):\n",
        "            true_label = true_label_list[true_index]\n",
        "            pred_label = pred_label_list[pred_index]\n",
        "\n",
        "            aligned_true_labels.append(true_label)\n",
        "            aligned_pred_labels.append(pred_label)\n",
        "\n",
        "            true_index += 1\n",
        "            pred_index += 1\n",
        "\n",
        "    return aligned_true_labels, aligned_pred_labels\n",
        "\n",
        "# Prepare true and predicted labels for evaluation\n",
        "true_labels_flat = [label for sublist in test_labels for label in sublist]\n",
        "pred_labels_flat = [ent[1] for sublist in pred_entities for ent in sublist]\n",
        "\n",
        "# Align the labels\n",
        "aligned_true_labels, aligned_pred_labels = align_labels(true_labels_flat, pred_labels_flat)\n",
        "\n",
        "# Evaluate the model using classification report\n",
        "print(classification_report(aligned_true_labels, aligned_pred_labels))\n"
      ],
      "metadata": {
        "colab": {
          "base_uri": "https://localhost:8080/"
        },
        "id": "f2jIIBV3CIg5",
        "outputId": "70232e69-bf48-40e2-be4d-f1bceac0666f"
      },
      "execution_count": 28,
      "outputs": [
        {
          "output_type": "stream",
          "name": "stderr",
          "text": [
            "/usr/local/lib/python3.10/dist-packages/sklearn/metrics/_classification.py:1344: UndefinedMetricWarning: Precision and F-score are ill-defined and being set to 0.0 in labels with no predicted samples. Use `zero_division` parameter to control this behavior.\n",
            "  _warn_prf(average, modifier, msg_start, len(result))\n",
            "/usr/local/lib/python3.10/dist-packages/sklearn/metrics/_classification.py:1344: UndefinedMetricWarning: Precision and F-score are ill-defined and being set to 0.0 in labels with no predicted samples. Use `zero_division` parameter to control this behavior.\n",
            "  _warn_prf(average, modifier, msg_start, len(result))\n"
          ]
        },
        {
          "output_type": "stream",
          "name": "stdout",
          "text": [
            "              precision    recall  f1-score   support\n",
            "\n",
            "           '       0.89      0.89      0.89    401168\n",
            "           ,       0.88      0.88      0.88    176284\n",
            "           -       0.41      0.40      0.41     32240\n",
            "           B       0.21      0.21      0.21     22532\n",
            "           I       0.38      0.36      0.37      9708\n",
            "           O       0.84      0.84      0.84    177590\n",
            "           [       0.20      0.20      0.20      9592\n",
            "           ]       0.20      0.20      0.20      9583\n",
            "           a       0.00      0.00      0.00       188\n",
            "           e       0.69      0.76      0.72      8615\n",
            "           g       0.33      0.34      0.34     14994\n",
            "           i       0.97      0.72      0.82      1811\n",
            "           m       0.97      0.80      0.88      1624\n",
            "           n       0.00      0.00      0.00        52\n",
            "           o       0.41      0.43      0.42      9978\n",
            "           p       0.42      0.51      0.46      7154\n",
            "           r       0.69      0.57      0.63      8822\n",
            "           t       0.34      0.24      0.28      5349\n",
            "           v       0.00      0.00      0.00        78\n",
            "\n",
            "    accuracy                           0.80    897362\n",
            "   macro avg       0.47      0.44      0.45    897362\n",
            "weighted avg       0.80      0.80      0.80    897362\n",
            "\n"
          ]
        },
        {
          "output_type": "stream",
          "name": "stderr",
          "text": [
            "/usr/local/lib/python3.10/dist-packages/sklearn/metrics/_classification.py:1344: UndefinedMetricWarning: Precision and F-score are ill-defined and being set to 0.0 in labels with no predicted samples. Use `zero_division` parameter to control this behavior.\n",
            "  _warn_prf(average, modifier, msg_start, len(result))\n"
          ]
        }
      ]
    },
    {
      "cell_type": "code",
      "source": [],
      "metadata": {
        "id": "YTjXAYODC8IJ"
      },
      "execution_count": null,
      "outputs": []
    }
  ],
  "metadata": {
    "colab": {
      "provenance": []
    },
    "kernelspec": {
      "display_name": "Python 3",
      "name": "python3"
    },
    "language_info": {
      "name": "python"
    }
  },
  "nbformat": 4,
  "nbformat_minor": 0
}